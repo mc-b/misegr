{
 "cells": [
  {
   "cell_type": "markdown",
   "metadata": {},
   "source": [
    "Aufbereitung der Daten aus dem Beispiel Microservices Kubernetes\n",
    "====================================\n",
    "\n",
    "![](https://cdn-images-1.medium.com/max/1600/0*o0zVW2O6Rv-LI5Mu.png)\n",
    "\n",
    "**Collaborative Filtering**: Amazon verwendet eine Technik des maschinellen Lernens Collaborative Filtering genannt (gemeinhin als Empfehlung genannt). So empfiehlt Amazon Nutzern Produkte auf der Grundlage ihrer Geschichte und Ähnlichkeit mit anderen Benutzern.\n",
    "\n",
    "Dieses Notebook simuliert in einer Vereinfachten Version Produkt Empfehlungen nach.\n",
    "\n",
    "**Links**:\n",
    "* [Collaborative Filtering in Python](https://medium.com/@tomar.ankur287/user-user-collaborative-filtering-recommender-system-51f568489727)\n",
    "\n",
    "Verbindung mit der Datenbank erstellen"
   ]
  },
  {
   "cell_type": "code",
   "execution_count": 3,
   "metadata": {},
   "outputs": [],
   "source": [
    "%defaultDatasource jdbc:postgresql://postgres.ms-kafka/dborder?user=dbuser&password=dbpass"
   ]
  },
  {
   "cell_type": "markdown",
   "metadata": {},
   "source": [
    "Ausgabe der Kundendaten"
   ]
  },
  {
   "cell_type": "code",
   "execution_count": 4,
   "metadata": {},
   "outputs": [
    {
     "data": {
      "application/vnd.jupyter.widget-view+json": {
       "model_id": "7202a6dd-b21e-4157-b818-cf613ffbb0ab",
       "version_major": 2,
       "version_minor": 0
      },
      "method": "display_data"
     },
     "metadata": {},
     "output_type": "display_data"
    }
   ],
   "source": [
    "select * from customer"
   ]
  },
  {
   "cell_type": "markdown",
   "metadata": {},
   "source": [
    "Ausgabe der Produktdaten"
   ]
  },
  {
   "cell_type": "code",
   "execution_count": 5,
   "metadata": {},
   "outputs": [
    {
     "data": {
      "application/vnd.jupyter.widget-view+json": {
       "model_id": "1e966897-9b3e-4563-bf91-0d149ee3927b",
       "version_major": 2,
       "version_minor": 0
      },
      "method": "display_data"
     },
     "metadata": {},
     "output_type": "display_data"
    }
   ],
   "source": [
    "select * from item"
   ]
  },
  {
   "cell_type": "markdown",
   "metadata": {},
   "source": [
    "Welcher Kunde hat was bestellt, in der Reihenfolge des Einganges\n"
   ]
  },
  {
   "cell_type": "code",
   "execution_count": 8,
   "metadata": {},
   "outputs": [
    {
     "data": {
      "application/vnd.jupyter.widget-view+json": {
       "model_id": "9621adf7-8671-4dab-be3f-a12ff92b7365",
       "version_major": 2,
       "version_minor": 0
      },
      "method": "display_data"
     },
     "metadata": {},
     "output_type": "display_data"
    }
   ],
   "source": [
    "select  t.*, c.name, ol.item_item_id, ol.f_count from order_line as ol\n",
    "    inner join ordertable_order_line as otol\n",
    "       on  otol.order_line_id = ol.id \n",
    "    inner join ordertable as t\n",
    "       on otol.order_id = t.id \n",
    "    inner join customer as c\n",
    "       on t.customer_customer_id = c.customer_id       \n",
    "    order by t.id, ol.item_item_id"
   ]
  },
  {
   "cell_type": "markdown",
   "metadata": {},
   "source": [
    "Welche Produkte wurden in welcher Menge und Preis bestellt"
   ]
  },
  {
   "cell_type": "code",
   "execution_count": 9,
   "metadata": {},
   "outputs": [
    {
     "data": {
      "application/vnd.jupyter.widget-view+json": {
       "model_id": "5468e796-fe44-4462-a52a-c4d3309139bb",
       "version_major": 2,
       "version_minor": 0
      },
      "method": "display_data"
     },
     "metadata": {},
     "output_type": "display_data"
    }
   ],
   "source": [
    "select  t.customer_customer_id, ol.item_item_id, i.name, ol.f_count, i.price, ol.f_count * i.price as \"amount\" from order_line as ol\n",
    "    inner join ordertable_order_line as otol\n",
    "       on  otol.order_line_id = ol.id \n",
    "    inner join ordertable as t\n",
    "       on otol.order_id = t.id\n",
    "    inner join customer as c\n",
    "       on t.customer_customer_id = c.customer_id\n",
    "    inner  join item as i\n",
    "        on ol.item_item_id = i.item_id\n",
    "    order by t.customer_customer_id, ol.item_item_id  "
   ]
  },
  {
   "cell_type": "markdown",
   "metadata": {},
   "source": [
    "Aufbereiten der Variablen \n",
    "\n",
    "* ${plot} - Kunden und die jeweils bestellen Waren\n",
    "\n",
    "* ${items} - Bestellte Produkte und deren Anzahl über alle Bestellungen"
   ]
  },
  {
   "cell_type": "code",
   "execution_count": 10,
   "metadata": {},
   "outputs": [],
   "source": [
    "select  t.customer_customer_id, ol.item_item_id, i.name, count(ol.item_item_id) into ${plot} from order_line as ol\n",
    "    inner join ordertable_order_line as otol\n",
    "       on  otol.order_line_id = ol.id \n",
    "    inner join ordertable as t\n",
    "       on otol.order_id = t.id\n",
    "    inner join customer as c\n",
    "       on t.customer_customer_id = c.customer_id\n",
    "    inner  join item as i\n",
    "        on ol.item_item_id = i.item_id\n",
    "    group by t.customer_customer_id, ol.item_item_id, i.name\n",
    "    order by t.customer_customer_id, ol.item_item_id   \n",
    "    ;\n",
    "    \n",
    "select max(i.name), count(ol.f_count) into ${items} from order_line as ol\n",
    "    inner  join item as i\n",
    "        on ol.item_item_id = i.item_id\n",
    "        group by i.name\n",
    "        order by i.name    "
   ]
  },
  {
   "cell_type": "markdown",
   "metadata": {},
   "source": [
    "Aufbereitung der Daten für Antwort auf die Frage \"Kunden welche Produkte X bestellen, bestellten auch Y)\n",
    "\n",
    "* Verdichtung der Produkte pro Kunde\n",
    "\n",
    "* Zusammenfassung, Produkt X mit Produkt Y bestellt\n"
   ]
  },
  {
   "cell_type": "code",
   "execution_count": 12,
   "metadata": {},
   "outputs": [
    {
     "data": {
      "application/javascript": [
       "\n",
       "var customers = new Map();\n",
       "\n",
       "// Bestellte Artikel pro Kunde aufbereiten (Warenkorb)\n",
       "for ( var i = 0; i < beakerx.plot.values.length; i++ )\n",
       "{\n",
       "    var c = customers.get( beakerx.plot.values[i][0] );\n",
       "    if ( c == undefined )\n",
       "    {\n",
       "        c = new Map();\n",
       "        customers.set( beakerx.plot.values[i][0], c )\n",
       "    }\n",
       "    var count = c.get( beakerx.plot.values[i][2] )\n",
       "    if ( count == undefined )\n",
       "    {\n",
       "        count = 0;\n",
       "        c.set( beakerx.plot.values[i][2], 0 );\n",
       "    }\n",
       "    var total = count + beakerx.plot.values[i][3];\n",
       "    c.set( beakerx.plot.values[i][2], total );\n",
       "}\n",
       "\n",
       "console.log( customers ) ;\n",
       "console.log( beakerx.items.values );\n",
       "\n",
       "// Artikel welche vom Kunden gemeinsam gekauft wurden\n",
       "var hits = new Map();\n",
       "var table;\n",
       "\n",
       "for ( var i = 0; i < beakerx.items.values.length; i++ )\n",
       "{\n",
       "    for( var [ c, items ] of customers.entries() )\n",
       "    {\n",
       "        // Artikel wurde von Kunde gekauft?\n",
       "        if ( items.get( beakerx.items.values[i] [0] ) != undefined )\n",
       "        {\n",
       "            var others = hits.get( beakerx.items.values[i] [0] );\n",
       "            if ( others == undefined )\n",
       "            {\n",
       "                var others = new Map();\n",
       "                hits.set( beakerx.items.values[i] [0], others );\n",
       "            }\n",
       "            var others = new Map( [ ...items, ...others ] );\n",
       "            others.delete( beakerx.items.values[i] [0] );\n",
       "            hits.set( beakerx.items.values[i] [0], others );\n",
       "            table += \"<tr><td>\" +  beakerx.items.values[i] [0] + \"</td><td>\";\n",
       "            for ( var o of others.keys() )\n",
       "            {\n",
       "                table += o + \", \";\n",
       "            }\n",
       "            table += \"</td></tr>\";\n",
       "        }\n",
       "    }\n",
       "}\n",
       "console.log( hits );\n",
       "\n",
       "beakerx.displayHTML(this, \"<table border><tr><th>Produkt</th><th>Wird zusammen gekauft</th></tr>\" +\n",
       "                          table +\n",
       "                          \"</table>\")"
      ]
     },
     "execution_count": 12,
     "metadata": {},
     "output_type": "execute_result"
    }
   ],
   "source": [
    "%%javascript\n",
    "\n",
    "var customers = new Map();\n",
    "\n",
    "// Bestellte Artikel pro Kunde aufbereiten (Warenkorb)\n",
    "for ( var i = 0; i < beakerx.plot.values.length; i++ )\n",
    "{\n",
    "    var c = customers.get( beakerx.plot.values[i][0] );\n",
    "    if ( c == undefined )\n",
    "    {\n",
    "        c = new Map();\n",
    "        customers.set( beakerx.plot.values[i][0], c )\n",
    "    }\n",
    "    var count = c.get( beakerx.plot.values[i][2] )\n",
    "    if ( count == undefined )\n",
    "    {\n",
    "        count = 0;\n",
    "        c.set( beakerx.plot.values[i][2], 0 );\n",
    "    }\n",
    "    var total = count + beakerx.plot.values[i][3];\n",
    "    c.set( beakerx.plot.values[i][2], total );\n",
    "}\n",
    "\n",
    "console.log( customers ) ;\n",
    "console.log( beakerx.items.values );\n",
    "\n",
    "// Artikel welche vom Kunden gemeinsam gekauft wurden\n",
    "var hits = new Map();\n",
    "var table;\n",
    "\n",
    "for ( var i = 0; i < beakerx.items.values.length; i++ )\n",
    "{\n",
    "    for( var [ c, items ] of customers.entries() )\n",
    "    {\n",
    "        // Artikel wurde von Kunde gekauft?\n",
    "        if ( items.get( beakerx.items.values[i] [0] ) != undefined )\n",
    "        {\n",
    "            var others = hits.get( beakerx.items.values[i] [0] );\n",
    "            if ( others == undefined )\n",
    "            {\n",
    "                var others = new Map();\n",
    "                hits.set( beakerx.items.values[i] [0], others );\n",
    "            }\n",
    "            var others = new Map( [ ...items, ...others ] );\n",
    "            others.delete( beakerx.items.values[i] [0] );\n",
    "            hits.set( beakerx.items.values[i] [0], others );\n",
    "            table += \"<tr><td>\" +  beakerx.items.values[i] [0] + \"</td><td>\";\n",
    "            for ( var o of others.keys() )\n",
    "            {\n",
    "                table += o + \", \";\n",
    "            }\n",
    "            table += \"</td></tr>\";\n",
    "        }\n",
    "    }\n",
    "}\n",
    "console.log( hits );\n",
    "\n",
    "beakerx.displayHTML(this, \"<table border><tr><th>Produkt</th><th>Wird zusammen gekauft</th></tr>\" +\n",
    "                          table +\n",
    "                          \"</table>\")\n"
   ]
  },
  {
   "cell_type": "code",
   "execution_count": null,
   "metadata": {},
   "outputs": [],
   "source": []
  }
 ],
 "metadata": {
  "kernelspec": {
   "display_name": "SQL",
   "language": "SQL",
   "name": "sql"
  },
  "language_info": {
   "codemirror_mode": "sql",
   "file_extension": ".sql",
   "mimetype": "",
   "name": "SQL",
   "nbconverter_exporter": "",
   "version": ""
  }
 },
 "nbformat": 4,
 "nbformat_minor": 2
}
