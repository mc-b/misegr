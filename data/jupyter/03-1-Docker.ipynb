{
 "cells": [
  {
   "cell_type": "markdown",
   "metadata": {},
   "source": [
    "Übung: Funktionaler Überblick\n",
    "--------------------------------------------\n",
    "\n",
    "Docker Container holen und starten\n",
    "\n"
   ]
  },
  {
   "cell_type": "code",
   "execution_count": 1,
   "metadata": {},
   "outputs": [
    {
     "name": "stdout",
     "output_type": "stream",
     "text": [
      "Using default tag: latest\n",
      "latest: Pulling from library/hello-world\n",
      "Digest: sha256:4b8ff392a12ed9ea17784bd3c9a8b1fa3299cac44aca35a85c90c5e3c7afacdc\n",
      "Status: Image is up to date for hello-world:latest\n"
     ]
    }
   ],
   "source": [
    "! docker pull hello-world"
   ]
  },
  {
   "cell_type": "code",
   "execution_count": 2,
   "metadata": {},
   "outputs": [
    {
     "name": "stdout",
     "output_type": "stream",
     "text": [
      "\r\n",
      "Hello from Docker!\r\n",
      "This message shows that your installation appears to be working correctly.\r\n",
      "\r\n",
      "To generate this message, Docker took the following steps:\r\n",
      " 1. The Docker client contacted the Docker daemon.\r\n",
      " 2. The Docker daemon pulled the \"hello-world\" image from the Docker Hub.\r\n",
      "    (amd64)\r\n",
      " 3. The Docker daemon created a new container from that image which runs the\r\n",
      "    executable that produces the output you are currently reading.\r\n",
      " 4. The Docker daemon streamed that output to the Docker client, which sent it\r\n",
      "    to your terminal.\r\n",
      "\r\n",
      "To try something more ambitious, you can run an Ubuntu container with:\r\n",
      " $ docker run -it ubuntu bash\r\n",
      "\r\n",
      "Share images, automate workflows, and more with a free Docker ID:\r\n",
      " https://hub.docker.com/\r\n",
      "\r\n",
      "For more examples and ideas, visit:\r\n",
      " https://docs.docker.com/engine/userguide/\r\n",
      "\r\n"
     ]
    }
   ],
   "source": [
    "! docker run hello-world"
   ]
  },
  {
   "cell_type": "markdown",
   "metadata": {},
   "source": [
    "Docker Container starten"
   ]
  },
  {
   "cell_type": "code",
   "execution_count": 3,
   "metadata": {},
   "outputs": [
    {
     "name": "stdout",
     "output_type": "stream",
     "text": [
      " _          _ _                               _     _ \r\n",
      "| |__   ___| | | ___      __      _____  _ __| | __| |\r\n",
      "| '_ \\ / _ \\ | |/ _ \\ ____\\ \\ /\\ / / _ \\| '__| |/ _` |\r\n",
      "| | | |  __/ | | (_) |_____\\ V  V / (_) | |  | | (_| |\r\n",
      "|_| |_|\\___|_|_|\\___/       \\_/\\_/ \\___/|_|  |_|\\__,_|\r\n",
      "                                                      \r\n"
     ]
    }
   ],
   "source": [
    "! docker run hairyhenderson/figlet hello-world"
   ]
  },
  {
   "cell_type": "markdown",
   "metadata": {},
   "source": [
    "Docker nochmals starten"
   ]
  },
  {
   "cell_type": "code",
   "execution_count": 4,
   "metadata": {},
   "outputs": [
    {
     "name": "stdout",
     "output_type": "stream",
     "text": [
      " _           _ _                      _ _   \r\n",
      "| |__   __ _| | | ___   __      _____| | |_ \r\n",
      "| '_ \\ / _` | | |/ _ \\  \\ \\ /\\ / / _ \\ | __|\r\n",
      "| | | | (_| | | | (_) |  \\ V  V /  __/ | |_ \r\n",
      "|_| |_|\\__,_|_|_|\\___/    \\_/\\_/ \\___|_|\\__|\r\n",
      "                                            \r\n"
     ]
    }
   ],
   "source": [
    "! docker run hairyhenderson/figlet hallo welt"
   ]
  },
  {
   "cell_type": "markdown",
   "metadata": {},
   "source": [
    "Docker Images anzeigen"
   ]
  },
  {
   "cell_type": "code",
   "execution_count": 5,
   "metadata": {},
   "outputs": [
    {
     "name": "stdout",
     "output_type": "stream",
     "text": [
      "REPOSITORY              TAG                 IMAGE ID            CREATED             SIZE\r\n",
      "hairyhenderson/figlet   latest              be90c4f7e73d        10 days ago         4.69MB\r\n",
      "hello-world             latest              2cb0d9787c4d        2 weeks ago         1.85kB\r\n"
     ]
    }
   ],
   "source": [
    "! docker image ls"
   ]
  },
  {
   "cell_type": "markdown",
   "metadata": {},
   "source": [
    "Docker Container (auch beendete anzeigen)"
   ]
  },
  {
   "cell_type": "code",
   "execution_count": 6,
   "metadata": {},
   "outputs": [
    {
     "name": "stdout",
     "output_type": "stream",
     "text": [
      "CONTAINER ID        IMAGE                   COMMAND                CREATED             STATUS                     PORTS               NAMES\r\n",
      "ec50b7269e44        hairyhenderson/figlet   \"figlet hallo welt\"    4 seconds ago       Exited (0) 3 seconds ago                       hopeful_engelbart\r\n",
      "5990223e98cc        hairyhenderson/figlet   \"figlet hello-world\"   6 seconds ago       Exited (0) 5 seconds ago                       modest_nightingale\r\n",
      "bf0963c4f981        hello-world             \"/hello\"               8 seconds ago       Exited (0) 8 seconds ago                       flamboyant_kepler\r\n"
     ]
    }
   ],
   "source": [
    "! docker container ps -a"
   ]
  },
  {
   "cell_type": "markdown",
   "metadata": {},
   "source": [
    "Alle beendeten Container aufräumen"
   ]
  },
  {
   "cell_type": "code",
   "execution_count": 7,
   "metadata": {},
   "outputs": [
    {
     "name": "stdout",
     "output_type": "stream",
     "text": [
      "Deleted Containers:\r\n",
      "ec50b7269e442ac7d7425f0ff741929b21a17592e4d55d7d7915cd71d007ee8e\r\n",
      "5990223e98ccd3ad204a10abb24ad573a91f4e54a3d4ef22819ea4bafe57c74e\r\n",
      "bf0963c4f9814a30296518ffaf3633e4eb6e12d3c976594eaeb9e562a80f83fb\r\n",
      "\r\n",
      "Total reclaimed space: 0B\r\n"
     ]
    }
   ],
   "source": [
    "! docker container prune -f"
   ]
  },
  {
   "cell_type": "markdown",
   "metadata": {},
   "source": [
    "Docker Container dürfen keine mehr vorhanden sein"
   ]
  },
  {
   "cell_type": "code",
   "execution_count": 8,
   "metadata": {},
   "outputs": [
    {
     "name": "stdout",
     "output_type": "stream",
     "text": [
      "CONTAINER ID        IMAGE               COMMAND             CREATED             STATUS              PORTS               NAMES\r\n"
     ]
    }
   ],
   "source": [
    "! docker container ps -a"
   ]
  },
  {
   "cell_type": "markdown",
   "metadata": {},
   "source": [
    "Docker Images sind alle noch vorhanden"
   ]
  },
  {
   "cell_type": "code",
   "execution_count": 9,
   "metadata": {},
   "outputs": [
    {
     "name": "stdout",
     "output_type": "stream",
     "text": [
      "REPOSITORY              TAG                 IMAGE ID            CREATED             SIZE\r\n",
      "hairyhenderson/figlet   latest              be90c4f7e73d        10 days ago         4.69MB\r\n",
      "hello-world             latest              2cb0d9787c4d        2 weeks ago         1.85kB\r\n"
     ]
    }
   ],
   "source": [
    "! docker image ls"
   ]
  }
 ],
 "metadata": {
  "kernelspec": {
   "display_name": "Python 3",
   "language": "python",
   "name": "python3"
  },
  "language_info": {
   "codemirror_mode": {
    "name": "ipython",
    "version": 3
   },
   "file_extension": ".py",
   "mimetype": "text/x-python",
   "name": "python",
   "nbconvert_exporter": "python",
   "pygments_lexer": "ipython3",
   "version": "3.6.5"
  }
 },
 "nbformat": 4,
 "nbformat_minor": 2
}
