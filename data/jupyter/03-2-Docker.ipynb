{
 "cells": [
  {
   "attachments": {},
   "cell_type": "markdown",
   "metadata": {},
   "source": [
    "Übung : Einfaches Image-Management\n",
    "-------------------------------------------------------\n",
    "\n",
    "Erstellt einen Account auf https://hub.docker.com/.\n",
    "\n",
    "Erstellt, auf http://localhost:32188/ ein neues `Terminal` rechts oben mit `New` und logt Euch auf Docker Hub ein:\n",
    "\n",
    "    docker login"
   ]
  },
  {
   "attachments": {},
   "cell_type": "markdown",
   "metadata": {},
   "source": [
    "Tagt die zwei vorhanden Images mit Eurem Namen und pusht diese in auf Docker Hub\n",
    "\n",
    "z.B.:\n",
    "\n",
    "    docker tag hello-world <username>/hello-world\n",
    "    docker push <username>hello-world\n"
   ]
  },
  {
   "cell_type": "code",
   "execution_count": null,
   "metadata": {},
   "outputs": [],
   "source": [
    "! docker ..."
   ]
  },
  {
   "attachments": {},
   "cell_type": "markdown",
   "metadata": {},
   "source": [
    "Docker Images als im «tar»-Format speichern und laden"
   ]
  },
  {
   "cell_type": "code",
   "execution_count": 8,
   "metadata": {},
   "outputs": [
    {
     "name": "stdout",
     "output_type": "stream",
     "text": [
      "Untagged: hello-world:latest\n",
      "Untagged: hello-world@sha256:4b8ff392a12ed9ea17784bd3c9a8b1fa3299cac44aca35a85c90c5e3c7afacdc\n",
      "REPOSITORY              TAG                 IMAGE ID            CREATED             SIZE\n",
      "hairyhenderson/figlet   latest              be90c4f7e73d        10 days ago         4.69MB\n",
      "misegr/hello-world      latest              2cb0d9787c4d        2 weeks ago         1.85kB\n"
     ]
    }
   ],
   "source": [
    "! docker save hello-world -o hello-world.tar\n",
    "! docker rmi hello-world\n",
    "! docker image ls"
   ]
  },
  {
   "cell_type": "code",
   "execution_count": 9,
   "metadata": {},
   "outputs": [
    {
     "name": "stdout",
     "output_type": "stream",
     "text": [
      "16 -rwxrwxrwx 1 jovyan 1000 12800 Jul 27 08:03 hello-world.tar\r\n"
     ]
    }
   ],
   "source": [
    "! ls -ls *.tar"
   ]
  },
  {
   "cell_type": "code",
   "execution_count": 12,
   "metadata": {},
   "outputs": [
    {
     "name": "stdout",
     "output_type": "stream",
     "text": [
      "Loaded image: hello-world:latest\n",
      "REPOSITORY              TAG                 IMAGE ID            CREATED             SIZE\n",
      "hairyhenderson/figlet   latest              be90c4f7e73d        10 days ago         4.69MB\n",
      "hello-world             latest              2cb0d9787c4d        2 weeks ago         1.85kB\n",
      "misegr/hello-world      latest              2cb0d9787c4d        2 weeks ago         1.85kB\n"
     ]
    }
   ],
   "source": [
    "! docker load -i hello-world.tar\n",
    "! docker image ls"
   ]
  },
  {
   "cell_type": "code",
   "execution_count": null,
   "metadata": {},
   "outputs": [],
   "source": []
  }
 ],
 "metadata": {
  "kernelspec": {
   "display_name": "Python 3",
   "language": "python",
   "name": "python3"
  },
  "language_info": {
   "codemirror_mode": {
    "name": "ipython",
    "version": 3
   },
   "file_extension": ".py",
   "mimetype": "text/x-python",
   "name": "python",
   "nbconvert_exporter": "python",
   "pygments_lexer": "ipython3",
   "version": "3.6.5"
  }
 },
 "nbformat": 4,
 "nbformat_minor": 2
}
