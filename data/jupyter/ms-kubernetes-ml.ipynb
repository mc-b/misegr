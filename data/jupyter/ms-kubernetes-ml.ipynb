{
 "cells": [
  {
   "cell_type": "markdown",
   "metadata": {},
   "source": [
    "Aufbereitung der Daten aus dem Beispiel Microservices Kubernetes\n",
    "====================================\n",
    "\n",
    "![](https://cdn-images-1.medium.com/max/1600/0*o0zVW2O6Rv-LI5Mu.png)\n",
    "\n",
    "**Collaborative Filtering**: Amazon verwendet eine Technik des maschinellen Lernens Collaborative Filtering genannt (gemeinhin als Empfehlung genannt). So empfiehlt Amazon Nutzern Produkte auf der Grundlage ihrer Geschichte und Ähnlichkeit mit anderen Benutzern.\n",
    "\n",
    "Dieses Notebook simuliert in einer Vereinfachten Version Produkt Empfehlungen nach.\n",
    "\n",
    "**Links**:\n",
    "* [Collaborative Filtering in Python](https://medium.com/@tomar.ankur287/user-user-collaborative-filtering-recommender-system-51f568489727)\n",
    "\n",
    "Verbindung mit der Datenbank erstellen"
   ]
  },
  {
   "cell_type": "code",
   "execution_count": 22,
   "metadata": {},
   "outputs": [],
   "source": [
    "%defaultDatasource jdbc:postgresql://postgres.ms-kubernetes/dborder?user=dbuser&password=dbpass"
   ]
  },
  {
   "cell_type": "markdown",
   "metadata": {},
   "source": [
    "Ausgabe der Kundendaten"
   ]
  },
  {
   "cell_type": "code",
   "execution_count": 23,
   "metadata": {},
   "outputs": [
    {
     "data": {
      "application/vnd.jupyter.widget-view+json": {
       "model_id": "956c7145-1b2e-4059-94dc-a700bb4b46da",
       "version_major": 2,
       "version_minor": 0
      },
      "method": "display_data"
     },
     "metadata": {},
     "output_type": "display_data"
    }
   ],
   "source": [
    "select * from customer"
   ]
  },
  {
   "cell_type": "markdown",
   "metadata": {},
   "source": [
    "Ausgabe der Produktdaten"
   ]
  },
  {
   "cell_type": "code",
   "execution_count": 24,
   "metadata": {},
   "outputs": [
    {
     "data": {
      "application/vnd.jupyter.widget-view+json": {
       "model_id": "12ea4d82-8f21-4120-bd6c-75c26ed449e8",
       "version_major": 2,
       "version_minor": 0
      },
      "method": "display_data"
     },
     "metadata": {},
     "output_type": "display_data"
    }
   ],
   "source": [
    "select * from item"
   ]
  },
  {
   "cell_type": "markdown",
   "metadata": {},
   "source": [
    "Welcher Kunde hat was bestellt, in der Reihenfolge des Einganges\n"
   ]
  },
  {
   "cell_type": "code",
   "execution_count": 25,
   "metadata": {},
   "outputs": [
    {
     "data": {
      "application/vnd.jupyter.widget-view+json": {
       "model_id": "b75f35b8-d201-4c96-bd4a-0ed56b688533",
       "version_major": 2,
       "version_minor": 0
      },
      "method": "display_data"
     },
     "metadata": {},
     "output_type": "display_data"
    }
   ],
   "source": [
    "select  t.*, c.name, ol.item_id, ol.f_count from order_line as ol\n",
    "    inner join ordertable_order_line as otol\n",
    "       on  otol.order_line_id = ol.id \n",
    "    inner join ordertable as t\n",
    "       on otol.order_id = t.id \n",
    "    inner join customer as c\n",
    "       on t.customer_id = c.id       \n",
    "    order by t.id, ol.item_id"
   ]
  },
  {
   "cell_type": "markdown",
   "metadata": {},
   "source": [
    "Welche Produkte wurden in welcher Menge und Preis bestellt"
   ]
  },
  {
   "cell_type": "code",
   "execution_count": 26,
   "metadata": {},
   "outputs": [
    {
     "data": {
      "application/vnd.jupyter.widget-view+json": {
       "model_id": "b231b262-c2ef-4a25-bae0-76b1f3db63c3",
       "version_major": 2,
       "version_minor": 0
      },
      "method": "display_data"
     },
     "metadata": {},
     "output_type": "display_data"
    }
   ],
   "source": [
    "select  t.customer_id, ol.item_id, i.name, ol.f_count, i.price, ol.f_count * i.price as \"amount\" from order_line as ol\n",
    "    inner join ordertable_order_line as otol\n",
    "       on  otol.order_line_id = ol.id \n",
    "    inner join ordertable as t\n",
    "       on otol.order_id = t.id\n",
    "    inner join customer as c\n",
    "       on t.customer_id = c.id\n",
    "    inner  join item as i\n",
    "        on ol.item_id = i.id\n",
    "    order by t.customer_id, ol.item_id  "
   ]
  },
  {
   "cell_type": "markdown",
   "metadata": {},
   "source": [
    "Aufbereiten der Variablen \n",
    "\n",
    "* ${plot} - Kunden und die jeweils bestellen Waren\n",
    "\n",
    "* ${items} - Bestellte Produkte und deren Anzahl über alle Bestellungen"
   ]
  },
  {
   "cell_type": "code",
   "execution_count": 27,
   "metadata": {},
   "outputs": [],
   "source": [
    "select  t.customer_id, ol.item_id, i.name, count(ol.item_id) into ${plot} from order_line as ol\n",
    "    inner join ordertable_order_line as otol\n",
    "       on  otol.order_line_id = ol.id \n",
    "    inner join ordertable as t\n",
    "       on otol.order_id = t.id\n",
    "    inner join customer as c\n",
    "       on t.customer_id = c.id\n",
    "    inner  join item as i\n",
    "        on ol.item_id = i.id\n",
    "    group by t.customer_id, ol.item_id, i.name\n",
    "    order by t.customer_id, ol.item_id   \n",
    "    ;\n",
    "    \n",
    "select max(i.name), count(ol.f_count) into ${items} from order_line as ol\n",
    "    inner  join item as i\n",
    "        on ol.item_id = i.id\n",
    "        group by i.name\n",
    "        order by i.name    "
   ]
  },
  {
   "cell_type": "markdown",
   "metadata": {},
   "source": [
    "Aufbereitung der Daten für Antwort auf die Frage \"Kunden welche Produkte X bestellen, bestellten auch Y)\n",
    "\n",
    "* Verdichtung der Produkte pro Kunde\n",
    "\n",
    "* Zusammenfassung, Produkt X mit Produkt Y bestellt\n"
   ]
  },
  {
   "cell_type": "code",
   "execution_count": 28,
   "metadata": {},
   "outputs": [
    {
     "data": {
      "application/javascript": [
       "\n",
       "var customers = new Map();\n",
       "\n",
       "// Bestellte Artikel pro Kunde aufbereiten (Warenkorb)\n",
       "for ( var i = 0; i < beakerx.plot.values.length; i++ )\n",
       "{\n",
       "var c = customers.get( beakerx.plot.values[i][0] );\n",
       "if ( c == undefined )\n",
       "{\n",
       "c = new Map();\n",
       "customers.set( beakerx.plot.values[i][0], c )\n",
       "}\n",
       "var count = c.get( beakerx.plot.values[i][2] )\n",
       "if ( count == undefined )\n",
       "{\n",
       "count = 0;\n",
       "c.set( beakerx.plot.values[i][2], 0 );\n",
       "}\n",
       "var total = count + beakerx.plot.values[i][3];\n",
       "c.set( beakerx.plot.values[i][2], total );\n",
       "}\n",
       "\n",
       "console.log( customers ) ;\n",
       "console.log( beakerx.items.values );\n",
       "\n",
       "// Artikel welche vom Kunden gemeinsam gekauft wurden\n",
       "var hits = new Map();\n",
       "\n",
       "for ( var i = 0; i < beakerx.items.values.length; i++ )\n",
       "{\n",
       "for( var [ c, items ] of customers.entries() )\n",
       "{\n",
       "// Artikel wurde von Kunde gekauft?\n",
       "if ( items.get( beakerx.items.values[i] [0] ) != undefined )\n",
       "{\n",
       "var others = hits.get( beakerx.items.values[i] [0] );\n",
       "if ( others == undefined )\n",
       "{\n",
       "var others = new Map();\n",
       "hits.set( beakerx.items.values[i] [0], others );\n",
       "}\n",
       "var others = new Map( [ ...items, ...others ] );\n",
       "others.delete( beakerx.items.values[i] [0] );\n",
       "hits.set( beakerx.items.values[i] [0], others );\n",
       "console.log( beakerx.items.values[i] [0] + \" \" + items );\n",
       "}\n",
       "}\n",
       "}\n",
       "console.log( hits );"
      ]
     },
     "execution_count": 28,
     "metadata": {},
     "output_type": "execute_result"
    }
   ],
   "source": [
    "%%javascript\n",
    "\n",
    "var customers = new Map();\n",
    "\n",
    "// Bestellte Artikel pro Kunde aufbereiten (Warenkorb)\n",
    "for ( var i = 0; i < beakerx.plot.values.length; i++ )\n",
    "{\n",
    "    var c = customers.get( beakerx.plot.values[i][0] );\n",
    "    if ( c == undefined )\n",
    "    {\n",
    "        c = new Map();\n",
    "        customers.set( beakerx.plot.values[i][0], c )\n",
    "    }\n",
    "    var count = c.get( beakerx.plot.values[i][2] )\n",
    "    if ( count == undefined )\n",
    "    {\n",
    "        count = 0;\n",
    "        c.set( beakerx.plot.values[i][2], 0 );\n",
    "    }\n",
    "    var total = count + beakerx.plot.values[i][3];\n",
    "    c.set( beakerx.plot.values[i][2], total );\n",
    "}\n",
    "\n",
    "console.log( customers ) ;\n",
    "console.log( beakerx.items.values );\n",
    "\n",
    "// Artikel welche vom Kunden gemeinsam gekauft wurden\n",
    "var hits = new Map();\n",
    "\n",
    "for ( var i = 0; i < beakerx.items.values.length; i++ )\n",
    "{\n",
    "    for( var [ c, items ] of customers.entries() )\n",
    "    {\n",
    "        // Artikel wurde von Kunde gekauft?\n",
    "        if ( items.get( beakerx.items.values[i] [0] ) != undefined )\n",
    "        {\n",
    "            var others = hits.get( beakerx.items.values[i] [0] );\n",
    "            if ( others == undefined )\n",
    "            {\n",
    "                var others = new Map();\n",
    "                hits.set( beakerx.items.values[i] [0], others );\n",
    "            }\n",
    "            var others = new Map( [ ...items, ...others ] );\n",
    "            others.delete( beakerx.items.values[i] [0] );\n",
    "            hits.set( beakerx.items.values[i] [0], others );\n",
    "            console.log( beakerx.items.values[i] [0] + \" \" + items );\n",
    "        }\n",
    "    }\n",
    "}\n",
    "console.log( hits );\n"
   ]
  },
  {
   "cell_type": "code",
   "execution_count": null,
   "metadata": {},
   "outputs": [],
   "source": []
  }
 ],
 "metadata": {
  "kernelspec": {
   "display_name": "SQL",
   "language": "SQL",
   "name": "sql"
  },
  "language_info": {
   "codemirror_mode": "sql",
   "file_extension": ".sql",
   "mimetype": "",
   "name": "SQL",
   "nbconverter_exporter": "",
   "version": ""
  }
 },
 "nbformat": 4,
 "nbformat_minor": 2
}
